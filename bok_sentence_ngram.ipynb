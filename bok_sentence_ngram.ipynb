{
 "cells": [
  {
   "cell_type": "code",
   "execution_count": 1,
   "metadata": {},
   "outputs": [],
   "source": [
    "import pandas as pd"
   ]
  },
  {
   "cell_type": "code",
   "execution_count": 3,
   "metadata": {},
   "outputs": [
    {
     "data": {
      "text/html": [
       "<div>\n",
       "<style scoped>\n",
       "    .dataframe tbody tr th:only-of-type {\n",
       "        vertical-align: middle;\n",
       "    }\n",
       "\n",
       "    .dataframe tbody tr th {\n",
       "        vertical-align: top;\n",
       "    }\n",
       "\n",
       "    .dataframe thead th {\n",
       "        text-align: right;\n",
       "    }\n",
       "</style>\n",
       "<table border=\"1\" class=\"dataframe\">\n",
       "  <thead>\n",
       "    <tr style=\"text-align: right;\">\n",
       "      <th></th>\n",
       "      <th>date</th>\n",
       "      <th>ngram</th>\n",
       "      <th>labeling</th>\n",
       "    </tr>\n",
       "  </thead>\n",
       "  <tbody>\n",
       "    <tr>\n",
       "      <th>0</th>\n",
       "      <td>2005-06-09</td>\n",
       "      <td>경제/NNG,경제/NNG,비해/VV,더/MAG,낫/VV,특별/NNG,요인/NNG,없...</td>\n",
       "      <td>down</td>\n",
       "    </tr>\n",
       "    <tr>\n",
       "      <th>1</th>\n",
       "      <td>2005-07-07</td>\n",
       "      <td>들/VV,국제/NNG,유가/NNG,크/VA,오르/VV,원화/NNG,엔/NNG,화간/...</td>\n",
       "      <td>down</td>\n",
       "    </tr>\n",
       "    <tr>\n",
       "      <th>2</th>\n",
       "      <td>2005-08-11</td>\n",
       "      <td>위안/NNG,절상/NNG,원화/NNG,절상/NNG,가장/MAG,크/VA,추가/NNG...</td>\n",
       "      <td>up</td>\n",
       "    </tr>\n",
       "    <tr>\n",
       "      <th>3</th>\n",
       "      <td>2005-09-08</td>\n",
       "      <td>금융/NNG,불안사태/NNG,발생/NNG,하/VV,가운데/NNG,국제/NNG,환투기...</td>\n",
       "      <td>down</td>\n",
       "    </tr>\n",
       "    <tr>\n",
       "      <th>4</th>\n",
       "      <td>2005-10-11</td>\n",
       "      <td>금리갭/NNG,확대/NNG,되/XSV,가운데/NNG,남/VV,fed/NNG,금리/N...</td>\n",
       "      <td>up</td>\n",
       "    </tr>\n",
       "  </tbody>\n",
       "</table>\n",
       "</div>"
      ],
      "text/plain": [
       "         date                                              ngram labeling\n",
       "0  2005-06-09  경제/NNG,경제/NNG,비해/VV,더/MAG,낫/VV,특별/NNG,요인/NNG,없...     down\n",
       "1  2005-07-07  들/VV,국제/NNG,유가/NNG,크/VA,오르/VV,원화/NNG,엔/NNG,화간/...     down\n",
       "2  2005-08-11  위안/NNG,절상/NNG,원화/NNG,절상/NNG,가장/MAG,크/VA,추가/NNG...       up\n",
       "3  2005-09-08  금융/NNG,불안사태/NNG,발생/NNG,하/VV,가운데/NNG,국제/NNG,환투기...     down\n",
       "4  2005-10-11  금리갭/NNG,확대/NNG,되/XSV,가운데/NNG,남/VV,fed/NNG,금리/N...       up"
      ]
     },
     "execution_count": 3,
     "metadata": {},
     "output_type": "execute_result"
    }
   ],
   "source": [
    "data = pd.read_csv('bok_callrate_merge.csv', usecols = [1, 4, 5])\n",
    "data = data.fillna('')\n",
    "\n",
    "data.head()"
   ]
  },
  {
   "cell_type": "code",
   "execution_count": 4,
   "metadata": {},
   "outputs": [
    {
     "data": {
      "text/plain": [
       "'경제/NNG,경제/NNG,비해/VV,더/MAG,낫/VV,특별/NNG,요인/NNG,없/VA,불구/NNG,원엔/NNG,환율/NNG,지속/NNG,하락/NNG,하/XSV,이유/NNG,물/VV,대해/VV,위안/NNG,절/NNG,상시/NNG,통화/NNG,절상/NNG,크/VA,기대/NNG,원화/NNG,달러/NNG,엔달러/NNG,환율/NNG,상승/NNG,추수/NNG,하/XSV,못하/VX,외환/NNG,수급/NNG,면/NNG,공급우위/NNG,상태/NNG,지속/NNG,되/XSV,국제투자은행/NNG,엔달러/NNG,환율/NNG,전망/NNG,상향/NNG,하/XSV,불구/NNG,원달러/NNG,조정/NNG,아직/MAG,이루/VV,않/VX,기업/NNG,기대/NNG,원화/NNG,절상/NNG,편향/NNG,되/XSV,기인/NNG,하/VV,설명/NNG,하/XSV,엔달러/NNG;환율/NNG;상승/NNG,기대/NNG;원화/NNG;절상/NNG,통화/NNG;절상/NNG,전망/NNG;상향/NNG@@@환율/NNG,장기/NNG,각국/NNG,기초/NNG,경제/NNG,여건/NNG,반영/NNG,하/XSV,움직이/VV,점/NNG,감안/NNG,하/VV,때/NNG,원엔/NNG,환율/NNG,하락/NNG,일시적/VAX,현상/NNG,장기/NNG,반전/NNG,되/VV,가능성/NNG,있/VA,보인다는/VV,견해/NNG,밝혔으며/VV,대해/VV,견해/NNG,동의/NNG,하/XSV,시장/NNG,규모/NNG,작/VA,일시적/VAX,외부충격/NNG,의하/VV,영향/NNG,쉽/VA,받/VV,점/NNG,설명/NNG,하/XSV,내외/NNG,금리/NNG,역전/NNG,나타나/VV,같/VA,대규모/NNG,외환/NNG,유입/NNG,일어나/VV,않/VX,감안/NNG,하/VV,때/NNG,원엔/NNG,환율/NNG,추가/NNG,하락/NNG,하/VV,점차/MAG,축소/NNG,되/VV,생각/NNG,되/VV,답변/NNG,하/XSV,원엔/NNG;환율/NNG;하락/NNG,일시적/VAX;외부충격/NNG,하락/NNG;일시적/VAX@@@유로존/NNG,경제/NNG,성장/NNG,실적/NNG,예상/NNG,저조/NNG,가운데/NNG,일각/NNG,금리/NNG,인하/NNG,대두/NNG,되/XSV,유로/NNG,크/VA,절하/NNG,되/XSV,유로/NNG,달러/NNG,흐름/NNG,장기/NNG,변화/NNG,하/XSV,보/VV,있/VV,물/VV,대해/VV,국제투자은행/NNG,달러/NNG,대비/NNG,유로/NNG,전망/NNG,강세/NNG,약세/NNG,바꾸/VV,장기/NNG,다시/MAG,강세/NNG,반전/NNG,되/XSV,않/VX,의견/NNG,지배적/VAX,설명/NNG,하/XSV,유로존/NNG;경제/NNG;성장/NNG,실적/NNG;예상/NNG;저조/NNG,전망/NNG;강세/NNG;약세/NNG,금리/NNG;인하/NNG@@@금리/NNG,수준/NNG,유지/NNG,되/XSV,금리/NNG,상승/NNG,하/XSV,가운데/NNG,달러/NNG,보유/NNG,따르/VV,환차익/NNG,기대/NNG,형성/NNG,되/VV,원화/NNG,강세/NNG,시장/NNG,기대/NNG,약세/NNG,반전/NNG,되/XSV,자본/NNG,유출/NNG,확대/NNG,되/VV,가능성/NNG,배제/NNG,하/VV,없/VA,철저/NNG,대비/NNG,필요/NNG,견해/NNG,밝히/VV,자본/NNG;유출/NNG;확대/NNG,금리/NNG;상승/NNG,원화/NNG;강세/NNG,기대/NNG;약세/NNG@@@실물/NNG,경제/NNG,시차/NNG,두/VV,밀접/NNG,연관/NNG,지니/NNG,통화/NNG,총량/NNG,통화유통속도/NNG,추세/NNG,보/VV,대해서/VV,살피/VV,필요/NNG,있/VA,의견/NNG,개진/NNG,하/XSV@@@가계/NNG,대출/NNG,증가/NNG,액/NNG,실적/NNG,크/VA,넘/VV,주택담보대출/NNG,증가/NNG,주택가격/NNG,급등/NNG,크/VA,기여/NNG,하/XSV,재현/NNG,되/VV,가능성/NNG,없/VA,점검/NNG,필요/NNG,있/VA,견해/NNG,제시/NNG,하/XSV,가계/NNG;대출/NNG;증가/NNG,주택담보대출/NNG;증가/NNG,주택가격/NNG;급등/NNG@@@또/MAG,저축은행/NNG,연계/NNG,하/XSV,주택/NNG,담보인정비율/NNG,높/VV,대출/NNG,늘/VV,행태/NNG,보/VV,지적/NNG,하/XSV,이러/NNG,의하/VV,대출/NNG,규모/NNG,되/VV,파악/NNG,필요/NNG,있/VA,견해/NNG,나타나/VV,담보인정비율/NNG;높/VV,대출/NNG;늘/VV@@@금융시장/NNG,경기/NNG,회복/NNG,상반/NNG,되/VV,측면/NNG,보/VV,중/NNG,대출/NNG,크/VA,증가/NNG,수요/NNG,긍정적/VAX,영향/NNG,주/VV,경기/NNG,회복/NNG,뒷받침/NNG,하/XSV,측면/NNG,보/VV,있/VV,외국인/NNG,공격적/VAX,국채선물/NNG,매수/NNG,하/XSV,외/VA,지점/NNG,국채/NNG,현물/NNG,순매수/NNG,하/XSV,시장/NNG,금리/NNG,하락/NNG,베팅/NNG,하/XSV,행태/NNG,경기/NNG,비관/NNG,반영/NNG,생각/NNG,되/VV,의견/NNG,밝히/VV,금융시장/NNG;경기/NNG;회복/NNG,수요/NNG;긍정적/VAX,금리/NNG;하락/NNG,경기/NNG;비관/NNG@@@은행/NNG,금융중개기능/NNG,활성화/NNG,실제/NNG,투자/NNG,소비/NNG,자금/NNG,공급/NNG,이어지/VV,확인/NNG,하/XSV,뒷받침/NNG,하/VV,있/VV,근거/NNG,통계/NNG,자료/NNG,부족/NNG,점/NNG,지적/NNG,하/XSV,서베이/NNG,적절/NNG,통계/NNG,발굴/NNG,통하/VV,실물/NNG,경제/NNG,경로/NNG,파악/NNG,어렵/VA,분석/NNG,보완/NNG,하/VV,필요/NNG,있/VA,견해/NNG,제시/NNG,하/XSV'"
      ]
     },
     "execution_count": 4,
     "metadata": {},
     "output_type": "execute_result"
    }
   ],
   "source": [
    "# data['ngram'][0]"
   ]
  },
  {
   "cell_type": "code",
   "execution_count": 5,
   "metadata": {},
   "outputs": [
    {
     "name": "stderr",
     "output_type": "stream",
     "text": [
      "C:\\ProgramData\\Anaconda3\\lib\\site-packages\\ipykernel_launcher.py:4: SettingWithCopyWarning: \n",
      "A value is trying to be set on a copy of a slice from a DataFrame\n",
      "\n",
      "See the caveats in the documentation: https://pandas.pydata.org/pandas-docs/stable/user_guide/indexing.html#returning-a-view-versus-a-copy\n",
      "  after removing the cwd from sys.path.\n",
      "C:\\ProgramData\\Anaconda3\\lib\\site-packages\\pandas\\core\\indexing.py:670: SettingWithCopyWarning: \n",
      "A value is trying to be set on a copy of a slice from a DataFrame\n",
      "\n",
      "See the caveats in the documentation: https://pandas.pydata.org/pandas-docs/stable/user_guide/indexing.html#returning-a-view-versus-a-copy\n",
      "  self._setitem_with_indexer(indexer, value)\n"
     ]
    }
   ],
   "source": [
    "data['sentence ngram'] = 0\n",
    "\n",
    "for i in range(len(data)):\n",
    "    data['sentence ngram'][i] = data['ngram'][i].split('@@@')"
   ]
  },
  {
   "cell_type": "code",
   "execution_count": 12,
   "metadata": {},
   "outputs": [
    {
     "data": {
      "text/html": [
       "<div>\n",
       "<style scoped>\n",
       "    .dataframe tbody tr th:only-of-type {\n",
       "        vertical-align: middle;\n",
       "    }\n",
       "\n",
       "    .dataframe tbody tr th {\n",
       "        vertical-align: top;\n",
       "    }\n",
       "\n",
       "    .dataframe thead th {\n",
       "        text-align: right;\n",
       "    }\n",
       "</style>\n",
       "<table border=\"1\" class=\"dataframe\">\n",
       "  <thead>\n",
       "    <tr style=\"text-align: right;\">\n",
       "      <th></th>\n",
       "      <th>date</th>\n",
       "      <th>ngram</th>\n",
       "      <th>labeling</th>\n",
       "      <th>sentence ngram</th>\n",
       "    </tr>\n",
       "  </thead>\n",
       "  <tbody>\n",
       "    <tr>\n",
       "      <th>0</th>\n",
       "      <td>2005-06-09</td>\n",
       "      <td>경제/NNG,경제/NNG,비해/VV,더/MAG,낫/VV,특별/NNG,요인/NNG,없...</td>\n",
       "      <td>down</td>\n",
       "      <td>[경제/NNG,경제/NNG,비해/VV,더/MAG,낫/VV,특별/NNG,요인/NNG,...</td>\n",
       "    </tr>\n",
       "    <tr>\n",
       "      <th>1</th>\n",
       "      <td>2005-07-07</td>\n",
       "      <td>들/VV,국제/NNG,유가/NNG,크/VA,오르/VV,원화/NNG,엔/NNG,화간/...</td>\n",
       "      <td>down</td>\n",
       "      <td>[들/VV,국제/NNG,유가/NNG,크/VA,오르/VV,원화/NNG,엔/NNG,화간...</td>\n",
       "    </tr>\n",
       "    <tr>\n",
       "      <th>2</th>\n",
       "      <td>2005-08-11</td>\n",
       "      <td>위안/NNG,절상/NNG,원화/NNG,절상/NNG,가장/MAG,크/VA,추가/NNG...</td>\n",
       "      <td>up</td>\n",
       "      <td>[위안/NNG,절상/NNG,원화/NNG,절상/NNG,가장/MAG,크/VA,추가/NN...</td>\n",
       "    </tr>\n",
       "    <tr>\n",
       "      <th>3</th>\n",
       "      <td>2005-09-08</td>\n",
       "      <td>금융/NNG,불안사태/NNG,발생/NNG,하/VV,가운데/NNG,국제/NNG,환투기...</td>\n",
       "      <td>down</td>\n",
       "      <td>[금융/NNG,불안사태/NNG,발생/NNG,하/VV,가운데/NNG,국제/NNG,환투...</td>\n",
       "    </tr>\n",
       "    <tr>\n",
       "      <th>4</th>\n",
       "      <td>2005-10-11</td>\n",
       "      <td>금리갭/NNG,확대/NNG,되/XSV,가운데/NNG,남/VV,fed/NNG,금리/N...</td>\n",
       "      <td>up</td>\n",
       "      <td>[금리갭/NNG,확대/NNG,되/XSV,가운데/NNG,남/VV,fed/NNG,금리/...</td>\n",
       "    </tr>\n",
       "    <tr>\n",
       "      <th>...</th>\n",
       "      <td>...</td>\n",
       "      <td>...</td>\n",
       "      <td>...</td>\n",
       "      <td>...</td>\n",
       "    </tr>\n",
       "    <tr>\n",
       "      <th>142</th>\n",
       "      <td>2017-05-25</td>\n",
       "      <td>국제/NNG,금융시장/NNG,안정/NNG,되/VV,지속/NNG,하/XSV,가운데/N...</td>\n",
       "      <td>down</td>\n",
       "      <td>[국제/NNG,금융시장/NNG,안정/NNG,되/VV,지속/NNG,하/XSV,가운데/...</td>\n",
       "    </tr>\n",
       "    <tr>\n",
       "      <th>143</th>\n",
       "      <td>2017-07-13</td>\n",
       "      <td>성장/NNG,고용/NNG,회복국면/NNG,정점/NNG,향하/VV@@@불구/NNG,물...</td>\n",
       "      <td>up</td>\n",
       "      <td>[성장/NNG,고용/NNG,회복국면/NNG,정점/NNG,향하/VV, 불구/NNG,물...</td>\n",
       "    </tr>\n",
       "    <tr>\n",
       "      <th>144</th>\n",
       "      <td>2017-08-31</td>\n",
       "      <td>금리정상화/NNG,행보/NNG,불구/NNG,미/NNG,달러/NNG,약세/NNG,기조...</td>\n",
       "      <td>up</td>\n",
       "      <td>[금리정상화/NNG,행보/NNG,불구/NNG,미/NNG,달러/NNG,약세/NNG,기...</td>\n",
       "    </tr>\n",
       "    <tr>\n",
       "      <th>145</th>\n",
       "      <td>2017-10-19</td>\n",
       "      <td>임금/NNG,상승/NNG,확대/NNG,되/XSV,세제/NNG,개혁/NNG,기대/NN...</td>\n",
       "      <td>0</td>\n",
       "      <td>[임금/NNG,상승/NNG,확대/NNG,되/XSV,세제/NNG,개혁/NNG,기대/N...</td>\n",
       "    </tr>\n",
       "    <tr>\n",
       "      <th>146</th>\n",
       "      <td>2017-11-30</td>\n",
       "      <td>금융경제/NNG,보/VV,fed/NNG,금리/NNG,인상/NNG,하/VV,예견/NN...</td>\n",
       "      <td>up</td>\n",
       "      <td>[금융경제/NNG,보/VV,fed/NNG,금리/NNG,인상/NNG,하/VV,예견/N...</td>\n",
       "    </tr>\n",
       "  </tbody>\n",
       "</table>\n",
       "<p>147 rows × 4 columns</p>\n",
       "</div>"
      ],
      "text/plain": [
       "           date                                              ngram labeling  \\\n",
       "0    2005-06-09  경제/NNG,경제/NNG,비해/VV,더/MAG,낫/VV,특별/NNG,요인/NNG,없...     down   \n",
       "1    2005-07-07  들/VV,국제/NNG,유가/NNG,크/VA,오르/VV,원화/NNG,엔/NNG,화간/...     down   \n",
       "2    2005-08-11  위안/NNG,절상/NNG,원화/NNG,절상/NNG,가장/MAG,크/VA,추가/NNG...       up   \n",
       "3    2005-09-08  금융/NNG,불안사태/NNG,발생/NNG,하/VV,가운데/NNG,국제/NNG,환투기...     down   \n",
       "4    2005-10-11  금리갭/NNG,확대/NNG,되/XSV,가운데/NNG,남/VV,fed/NNG,금리/N...       up   \n",
       "..          ...                                                ...      ...   \n",
       "142  2017-05-25  국제/NNG,금융시장/NNG,안정/NNG,되/VV,지속/NNG,하/XSV,가운데/N...     down   \n",
       "143  2017-07-13  성장/NNG,고용/NNG,회복국면/NNG,정점/NNG,향하/VV@@@불구/NNG,물...       up   \n",
       "144  2017-08-31  금리정상화/NNG,행보/NNG,불구/NNG,미/NNG,달러/NNG,약세/NNG,기조...       up   \n",
       "145  2017-10-19  임금/NNG,상승/NNG,확대/NNG,되/XSV,세제/NNG,개혁/NNG,기대/NN...        0   \n",
       "146  2017-11-30  금융경제/NNG,보/VV,fed/NNG,금리/NNG,인상/NNG,하/VV,예견/NN...       up   \n",
       "\n",
       "                                        sentence ngram  \n",
       "0    [경제/NNG,경제/NNG,비해/VV,더/MAG,낫/VV,특별/NNG,요인/NNG,...  \n",
       "1    [들/VV,국제/NNG,유가/NNG,크/VA,오르/VV,원화/NNG,엔/NNG,화간...  \n",
       "2    [위안/NNG,절상/NNG,원화/NNG,절상/NNG,가장/MAG,크/VA,추가/NN...  \n",
       "3    [금융/NNG,불안사태/NNG,발생/NNG,하/VV,가운데/NNG,국제/NNG,환투...  \n",
       "4    [금리갭/NNG,확대/NNG,되/XSV,가운데/NNG,남/VV,fed/NNG,금리/...  \n",
       "..                                                 ...  \n",
       "142  [국제/NNG,금융시장/NNG,안정/NNG,되/VV,지속/NNG,하/XSV,가운데/...  \n",
       "143  [성장/NNG,고용/NNG,회복국면/NNG,정점/NNG,향하/VV, 불구/NNG,물...  \n",
       "144  [금리정상화/NNG,행보/NNG,불구/NNG,미/NNG,달러/NNG,약세/NNG,기...  \n",
       "145  [임금/NNG,상승/NNG,확대/NNG,되/XSV,세제/NNG,개혁/NNG,기대/N...  \n",
       "146  [금융경제/NNG,보/VV,fed/NNG,금리/NNG,인상/NNG,하/VV,예견/N...  \n",
       "\n",
       "[147 rows x 4 columns]"
      ]
     },
     "execution_count": 12,
     "metadata": {},
     "output_type": "execute_result"
    }
   ],
   "source": [
    "data"
   ]
  },
  {
   "cell_type": "code",
   "execution_count": 13,
   "metadata": {},
   "outputs": [],
   "source": [
    "data.to_csv('bok_sentence_ngram.csv', encoding = 'utf-8-sig', header = ['date','ngram', 'labeling', 'sentence ngram'], index = False)"
   ]
  }
 ],
 "metadata": {
  "kernelspec": {
   "display_name": "Python 3",
   "language": "python",
   "name": "python3"
  },
  "language_info": {
   "codemirror_mode": {
    "name": "ipython",
    "version": 3
   },
   "file_extension": ".py",
   "mimetype": "text/x-python",
   "name": "python",
   "nbconvert_exporter": "python",
   "pygments_lexer": "ipython3",
   "version": "3.7.6"
  }
 },
 "nbformat": 4,
 "nbformat_minor": 4
}
